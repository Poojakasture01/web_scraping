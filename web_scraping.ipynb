{
 "cells": [
  {
   "cell_type": "code",
   "execution_count": 5,
   "id": "646a43eb",
   "metadata": {},
   "outputs": [
    {
     "name": "stdout",
     "output_type": "stream",
     "text": [
      "Requirement already satisfied: beautifulsoup4 in c:\\users\\pooja\\anaconda3\\lib\\site-packages (4.10.0)\n",
      "Requirement already satisfied: soupsieve>1.2 in c:\\users\\pooja\\anaconda3\\lib\\site-packages (from beautifulsoup4) (2.2.1)\n",
      "Note: you may need to restart the kernel to use updated packages.\n"
     ]
    }
   ],
   "source": [
    "pip install beautifulsoup4"
   ]
  },
  {
   "cell_type": "code",
   "execution_count": 6,
   "id": "5d1c20be",
   "metadata": {},
   "outputs": [],
   "source": [
    "#we import the libraries\n",
    "import requests\n",
    "from bs4 import BeautifulSoup\n",
    "import pandas as pd\n",
    "import sys"
   ]
  },
  {
   "cell_type": "code",
   "execution_count": 7,
   "id": "37382ca6",
   "metadata": {},
   "outputs": [],
   "source": [
    "result=requests.get('https://www.talabat.com/uae/restaurant/621133/ginos-deli-jlt?aid=1308') \n",
    "website=BeautifulSoup(result.content,'lxml')"
   ]
  },
  {
   "cell_type": "code",
   "execution_count": 8,
   "id": "52922316",
   "metadata": {},
   "outputs": [
    {
     "data": {
      "text/plain": [
       "\"Gino's Deliin\\xa0Jumeirah Lakes Towers - JLT,\\xa0UAE\""
      ]
     },
     "execution_count": 8,
     "metadata": {},
     "output_type": "execute_result"
    }
   ],
   "source": [
    "name_1=website.find_all('h1',{'class':'f-24 f-m-15 media-heading f-400 mb-0'}) \n",
    "\n",
    "name_1[0].text"
   ]
  },
  {
   "cell_type": "code",
   "execution_count": 9,
   "id": "f83fed66",
   "metadata": {},
   "outputs": [],
   "source": [
    "#we create the links from the name list:\n",
    "links_1=[]\n",
    "\n",
    "for x in name_1:\n",
    "    links_1.append('https://www.talabat.com/uae/restaurant/621133/ginos-deli-jlt?aid=1308')\n",
    "    links_1=list(dict.fromkeys(links_1))"
   ]
  },
  {
   "cell_type": "code",
   "execution_count": 10,
   "id": "3bbddaca",
   "metadata": {},
   "outputs": [
    {
     "data": {
      "text/plain": [
       "['https://www.talabat.com/uae/restaurant/621133/ginos-deli-jlt?aid=1308']"
      ]
     },
     "execution_count": 10,
     "metadata": {},
     "output_type": "execute_result"
    }
   ],
   "source": [
    "links_1"
   ]
  },
  {
   "cell_type": "code",
   "execution_count": 11,
   "id": "cbd92bb6",
   "metadata": {},
   "outputs": [],
   "source": [
    "def remove(name_1):\n",
    "    string=(\"[@_!#.$%^&*()<>?/'\\|}{~:]\") \n",
    "    \n",
    "    for i in string:\n",
    "        name_1=name_1.replace(i, \"\") #remove the spical chracters\n",
    "        \n",
    "    return name_1.replace(\" \",\"-\") #replace the space with a -"
   ]
  },
  {
   "cell_type": "code",
   "execution_count": 12,
   "id": "6ade2468",
   "metadata": {},
   "outputs": [
    {
     "name": "stdout",
     "output_type": "stream",
     "text": [
      "Gino's Deliin Jumeirah Lakes Towers - JLT, UAE\n"
     ]
    }
   ],
   "source": [
    "print(name_1[0].text)"
   ]
  },
  {
   "cell_type": "code",
   "execution_count": 13,
   "id": "8c8eda30",
   "metadata": {},
   "outputs": [
    {
     "name": "stdout",
     "output_type": "stream",
     "text": [
      "https://www.talabat.com/assets/images/logo.svg\n",
      "https://images.deliveryhero.io/image/talabat/restaurants/logo_-_2021-11-23T17_637732788146540497.jpg?width=180\n",
      "/assets/images/menu-ico.svg\n",
      "/assets/images/icon_reviews.svg\n",
      "/assets/images/icon_info_menu.svg\n",
      "/assets/images/empty-cart.svg\n"
     ]
    },
    {
     "data": {
      "text/plain": [
       "''"
      ]
     },
     "execution_count": 13,
     "metadata": {},
     "output_type": "execute_result"
    }
   ],
   "source": [
    "logo_1 = website.find_all('img')\n",
    "  \n",
    "for item in logo_1:\n",
    "    print(item['src'])\n",
    "logo_1[0].text"
   ]
  },
  {
   "cell_type": "code",
   "execution_count": 14,
   "id": "7df08122",
   "metadata": {},
   "outputs": [
    {
     "data": {
      "text/plain": [
       "'Sandwiches, Pasta, Italian'"
      ]
     },
     "execution_count": 14,
     "metadata": {},
     "output_type": "execute_result"
    }
   ],
   "source": [
    "cuisine_1 = website.find_all('p',{'class':'light-text f-14 mb-0'})\n",
    "\n",
    "cuisine_1[0].text"
   ]
  },
  {
   "cell_type": "code",
   "execution_count": 15,
   "id": "9efc2e4f",
   "metadata": {},
   "outputs": [],
   "source": [
    "# restaurant detail\n",
    "\n",
    "\n",
    "a1 ={'res_name':name_1[0].text,'cuisine_tag':cuisine_1,'rest_link':links_1}\n",
    "df_1 = pd.DataFrame.from_dict(a1, orient='index').transpose() #we did that as if we have an empty cell\n",
    "df_1=df_1.dropna()"
   ]
  },
  {
   "cell_type": "code",
   "execution_count": 16,
   "id": "4ca3b086",
   "metadata": {},
   "outputs": [
    {
     "data": {
      "text/html": [
       "<div>\n",
       "<style scoped>\n",
       "    .dataframe tbody tr th:only-of-type {\n",
       "        vertical-align: middle;\n",
       "    }\n",
       "\n",
       "    .dataframe tbody tr th {\n",
       "        vertical-align: top;\n",
       "    }\n",
       "\n",
       "    .dataframe thead th {\n",
       "        text-align: right;\n",
       "    }\n",
       "</style>\n",
       "<table border=\"1\" class=\"dataframe\">\n",
       "  <thead>\n",
       "    <tr style=\"text-align: right;\">\n",
       "      <th></th>\n",
       "      <th>res_name</th>\n",
       "      <th>cuisine_tag</th>\n",
       "      <th>rest_link</th>\n",
       "    </tr>\n",
       "  </thead>\n",
       "  <tbody>\n",
       "    <tr>\n",
       "      <th>0</th>\n",
       "      <td>Gino's Deliin Jumeirah Lakes Towers - JLT, UAE</td>\n",
       "      <td>[[Sandwiches, Pasta, Italian]]</td>\n",
       "      <td>[https://www.talabat.com/uae/restaurant/621133...</td>\n",
       "    </tr>\n",
       "  </tbody>\n",
       "</table>\n",
       "</div>"
      ],
      "text/plain": [
       "                                         res_name  \\\n",
       "0  Gino's Deliin Jumeirah Lakes Towers - JLT, UAE   \n",
       "\n",
       "                      cuisine_tag  \\\n",
       "0  [[Sandwiches, Pasta, Italian]]   \n",
       "\n",
       "                                           rest_link  \n",
       "0  [https://www.talabat.com/uae/restaurant/621133...  "
      ]
     },
     "execution_count": 16,
     "metadata": {},
     "output_type": "execute_result"
    }
   ],
   "source": [
    "df_1.head()"
   ]
  },
  {
   "cell_type": "code",
   "execution_count": 19,
   "id": "1ed440fa",
   "metadata": {},
   "outputs": [
    {
     "name": "stdout",
     "output_type": "stream",
     "text": [
      "https://www.talabat.com/assets/images/logo.svg\n",
      "https://images.deliveryhero.io/image/talabat/restaurants/Logos_PastaDellaNonna_Sec637794192311679134.jpg?width=180\n",
      "/assets/images/menu-ico.svg\n",
      "/assets/images/icon_reviews.svg\n",
      "/assets/images/icon_info_menu.svg\n",
      "/assets/images/empty-cart.svg\n"
     ]
    }
   ],
   "source": [
    "result=requests.get('https://www.talabat.com/uae/restaurant/645430/pasta-della-nona-jlt-jumeirah-lakes-towers?aid=1308') \n",
    "website=BeautifulSoup(result.content,'lxml')\n",
    "\n",
    "name_2=website.find_all('h1',{'class':'f-24 f-m-15 media-heading f-400 mb-0'}) \n",
    "\n",
    "def remove(name_2):\n",
    "    string=(\"[@_!#.$%^&*()<>?/'\\|}{~:]\") \n",
    "    \n",
    "    for i in string:\n",
    "        name_2=name_2.replace(i, \"\") #remove the spical chracters\n",
    "        \n",
    "    return name_2.replace(\" \",\"-\") #replace the space with a -\n",
    "\n",
    "links_2=[]\n",
    "for x in name_2:\n",
    "    links_2.append('https://www.talabat.com/uae/restaurant/645430/pasta-della-nona-jlt-jumeirah-lakes-towers?aid=1308')\n",
    "    links_2=list(dict.fromkeys(links_2))\n",
    "\n",
    "logo_2 = website.find_all('img')\n",
    "  \n",
    "for item in logo_2:\n",
    "    print(item['src'])\n",
    "logo_2[0].text\n",
    "\n",
    "cuisine_2 = website.find_all('p',{'class':'light-text f-14 mb-0'})\n",
    "\n",
    "cuisine_2[0].text\n",
    "\n",
    "# restaurant detail\n",
    "\n",
    "\n",
    "a3 ={'res_name':name_2,'cuisine_tag':cuisine_2,'rest_link':links_2}\n",
    "df_2 = pd.DataFrame.from_dict(a3, orient='index').transpose() #we did that as if we have an empty cell\n",
    "df_2=df_2.dropna()"
   ]
  },
  {
   "cell_type": "code",
   "execution_count": 25,
   "id": "07ff5f08",
   "metadata": {},
   "outputs": [
    {
     "data": {
      "text/plain": [
       "'Pasta Della Nonnain\\xa0Jumeirah Lakes Towers - JLT,\\xa0UAE'"
      ]
     },
     "execution_count": 25,
     "metadata": {},
     "output_type": "execute_result"
    }
   ],
   "source": [
    "name_2=website.find_all('h1',{'class':'f-24 f-m-15 media-heading f-400 mb-0'}) \n",
    "\n",
    "name_2[0].text"
   ]
  },
  {
   "cell_type": "code",
   "execution_count": 27,
   "id": "7a74f52c",
   "metadata": {},
   "outputs": [],
   "source": [
    "def remove(name):\n",
    "    string=(\"[@_!#.$%^&*()<>?/'\\|}{~:]\") \n",
    "    \n",
    "    for i in string:\n",
    "        name_2=name_2.replace(i, \"\") #remove the spical chracters\n",
    "        \n",
    "    return name_2.replace(\" \",\"-\") #replace the space with a -\n",
    "\n",
    "\n",
    "\n",
    "\n",
    "\n"
   ]
  },
  {
   "cell_type": "code",
   "execution_count": 28,
   "id": "763e4f84",
   "metadata": {},
   "outputs": [
    {
     "data": {
      "text/plain": [
       "'Pasta Della Nonnain\\xa0Jumeirah Lakes Towers - JLT,\\xa0UAE'"
      ]
     },
     "execution_count": 28,
     "metadata": {},
     "output_type": "execute_result"
    }
   ],
   "source": [
    "name_2[0].text"
   ]
  },
  {
   "cell_type": "code",
   "execution_count": 53,
   "id": "cb2e1792",
   "metadata": {},
   "outputs": [
    {
     "data": {
      "text/html": [
       "<div>\n",
       "<style scoped>\n",
       "    .dataframe tbody tr th:only-of-type {\n",
       "        vertical-align: middle;\n",
       "    }\n",
       "\n",
       "    .dataframe tbody tr th {\n",
       "        vertical-align: top;\n",
       "    }\n",
       "\n",
       "    .dataframe thead th {\n",
       "        text-align: right;\n",
       "    }\n",
       "</style>\n",
       "<table border=\"1\" class=\"dataframe\">\n",
       "  <thead>\n",
       "    <tr style=\"text-align: right;\">\n",
       "      <th></th>\n",
       "      <th>res_name</th>\n",
       "      <th>cuisine_tag</th>\n",
       "      <th>rest_link</th>\n",
       "    </tr>\n",
       "  </thead>\n",
       "  <tbody>\n",
       "    <tr>\n",
       "      <th>0</th>\n",
       "      <td>[Pasta Della Nonna, [], [in,  ,  ,  , Jumeirah...</td>\n",
       "      <td>[Italian, Pasta, Salad]</td>\n",
       "      <td>https://www.talabat.com/uae/restaurant/645430/...</td>\n",
       "    </tr>\n",
       "  </tbody>\n",
       "</table>\n",
       "</div>"
      ],
      "text/plain": [
       "                                            res_name              cuisine_tag  \\\n",
       "0  [Pasta Della Nonna, [], [in,  ,  ,  , Jumeirah...  [Italian, Pasta, Salad]   \n",
       "\n",
       "                                           rest_link  \n",
       "0  https://www.talabat.com/uae/restaurant/645430/...  "
      ]
     },
     "execution_count": 53,
     "metadata": {},
     "output_type": "execute_result"
    }
   ],
   "source": [
    "df_2.head()"
   ]
  },
  {
   "cell_type": "code",
   "execution_count": 30,
   "id": "3b11a944",
   "metadata": {},
   "outputs": [
    {
     "name": "stdout",
     "output_type": "stream",
     "text": [
      "https://www.talabat.com/assets/images/logo.svg\n",
      "https://images.deliveryhero.io/image/talabat/restaurants/pizzaro_logo_2_(500x_637901901529791866.jpg?width=180\n",
      "/assets/images/menu-ico.svg\n",
      "/assets/images/icon_reviews.svg\n",
      "/assets/images/icon_info_menu.svg\n",
      "/assets/images/empty-cart.svg\n"
     ]
    }
   ],
   "source": [
    "result=requests.get('https://www.talabat.com/uae/restaurant/50445/pizzaro-marina-3?aid=1308') \n",
    "website=BeautifulSoup(result.content,'lxml')\n",
    "\n",
    "name_3=website.find_all('h1',{'class':'f-24 f-m-15 media-heading f-400 mb-0'}) \n",
    "\n",
    "def remove(name_3):\n",
    "    string=(\"[@_!#.$%^&*()<>?/'\\|}{~:]\") \n",
    "    \n",
    "    for i in string:\n",
    "        name_3=name_3.replace(i, \"\") #remove the spical chracters\n",
    "        \n",
    "    return name_3.replace(\" \",\"-\") #replace the space with a -\n",
    "links_3=[]\n",
    "\n",
    "for x in name_3:\n",
    "    links_3.append('https://www.talabat.com/uae/restaurant/50445/pizzaro-marina-3?aid=1308')\n",
    "    links_3=list(dict.fromkeys(links_3))\n",
    "\n",
    "logo_3 = website.find_all('img')\n",
    "  \n",
    "for item in logo_3:\n",
    "    print(item['src'])\n",
    "logo_3[0].text\n",
    "\n",
    "cuisine_3 = website.find_all('p',{'class':'light-text f-14 mb-0'})\n",
    "\n",
    "cuisine_3[0].text\n",
    "\n",
    "# restaurant detail\n",
    "\n",
    "\n",
    "a3 ={'res_name':name_3,'cuisine_tag':cuisine_3,'rest_link':links_3}\n",
    "df_3 = pd.DataFrame.from_dict(a3, orient='index').transpose() #we did that as if we have an empty cell\n",
    "df_3=df_3.dropna()"
   ]
  },
  {
   "cell_type": "code",
   "execution_count": 31,
   "id": "1caa867f",
   "metadata": {},
   "outputs": [
    {
     "data": {
      "text/plain": [
       "'Pizzaroin\\xa0Jumeirah Lakes Towers - JLT,\\xa0UAE'"
      ]
     },
     "execution_count": 31,
     "metadata": {},
     "output_type": "execute_result"
    }
   ],
   "source": [
    "name_3[0].text"
   ]
  },
  {
   "cell_type": "code",
   "execution_count": 55,
   "id": "037da954",
   "metadata": {},
   "outputs": [
    {
     "data": {
      "text/html": [
       "<div>\n",
       "<style scoped>\n",
       "    .dataframe tbody tr th:only-of-type {\n",
       "        vertical-align: middle;\n",
       "    }\n",
       "\n",
       "    .dataframe tbody tr th {\n",
       "        vertical-align: top;\n",
       "    }\n",
       "\n",
       "    .dataframe thead th {\n",
       "        text-align: right;\n",
       "    }\n",
       "</style>\n",
       "<table border=\"1\" class=\"dataframe\">\n",
       "  <thead>\n",
       "    <tr style=\"text-align: right;\">\n",
       "      <th></th>\n",
       "      <th>res_name</th>\n",
       "      <th>cuisine_tag</th>\n",
       "      <th>rest_link</th>\n",
       "    </tr>\n",
       "  </thead>\n",
       "  <tbody>\n",
       "    <tr>\n",
       "      <th>0</th>\n",
       "      <td>[Pizzaro, [], [in,  ,  ,  , Jumeirah Lakes Tow...</td>\n",
       "      <td>[Italian, Pizza, Pasta]</td>\n",
       "      <td>https://www.talabat.com/uae/restaurant/50445/p...</td>\n",
       "    </tr>\n",
       "  </tbody>\n",
       "</table>\n",
       "</div>"
      ],
      "text/plain": [
       "                                            res_name              cuisine_tag  \\\n",
       "0  [Pizzaro, [], [in,  ,  ,  , Jumeirah Lakes Tow...  [Italian, Pizza, Pasta]   \n",
       "\n",
       "                                           rest_link  \n",
       "0  https://www.talabat.com/uae/restaurant/50445/p...  "
      ]
     },
     "execution_count": 55,
     "metadata": {},
     "output_type": "execute_result"
    }
   ],
   "source": [
    "df_3.head()"
   ]
  },
  {
   "cell_type": "code",
   "execution_count": 32,
   "id": "a7a114b2",
   "metadata": {},
   "outputs": [
    {
     "name": "stdout",
     "output_type": "stream",
     "text": [
      "https://www.talabat.com/assets/images/logo.svg\n",
      "https://images.deliveryhero.io/image/talabat/restaurants/ThePastaGuyz-Logo_637563263478806436.jpg?width=180\n",
      "/assets/images/menu-ico.svg\n",
      "/assets/images/icon_reviews.svg\n",
      "/assets/images/icon_info_menu.svg\n",
      "/assets/images/empty-cart.svg\n"
     ]
    }
   ],
   "source": [
    "result=requests.get('https://www.talabat.com/uae/restaurant/605052/the-pasta-guyz-dubai-marina?aid=1308') \n",
    "website=BeautifulSoup(result.content,'lxml')\n",
    "\n",
    "name_4=website.find_all('h1',{'class':'f-24 f-m-15 media-heading f-400 mb-0'}) \n",
    "\n",
    "def remove(name_4):\n",
    "    string=(\"[@_!#.$%^&*()<>?/'\\|}{~:]\") \n",
    "    \n",
    "    for i in string:\n",
    "        name_4=name.replace(i, \"\") #remove the spical chracters\n",
    "        \n",
    "    return name_4.replace(\" \",\"-\") #replace the space with a -\n",
    "links_4=[]\n",
    "\n",
    "for x in name_4:\n",
    "    links_4.append('https://www.talabat.com/uae/restaurant/605052/the-pasta-guyz-dubai-marina?aid=1308')\n",
    "    links_=list(dict.fromkeys(links_4))\n",
    "\n",
    "logo_4 = website.find_all('img')\n",
    "  \n",
    "for item in logo_4:\n",
    "    print(item['src'])\n",
    "logo_4[0].text\n",
    "\n",
    "cuisine_4 = website.find_all('p',{'class':'light-text f-14 mb-0'})\n",
    "\n",
    "cuisine_4[0].text\n",
    "\n",
    "# restaurant detail\n",
    "\n",
    "\n",
    "a4 ={'res_name':name_4,'cuisine_tag':cuisine_4,'rest_link':links_4}\n",
    "df_4 = pd.DataFrame.from_dict(a4, orient='index').transpose() #we did that as if we have an empty cell\n",
    "df_4=df_4.dropna()"
   ]
  },
  {
   "cell_type": "code",
   "execution_count": 33,
   "id": "26369b40",
   "metadata": {},
   "outputs": [
    {
     "data": {
      "text/plain": [
       "'The Pasta Guyzin\\xa0Jumeirah Lakes Towers - JLT,\\xa0UAE'"
      ]
     },
     "execution_count": 33,
     "metadata": {},
     "output_type": "execute_result"
    }
   ],
   "source": [
    "name_4[0].text"
   ]
  },
  {
   "cell_type": "code",
   "execution_count": 57,
   "id": "dbf61f43",
   "metadata": {},
   "outputs": [
    {
     "data": {
      "text/html": [
       "<div>\n",
       "<style scoped>\n",
       "    .dataframe tbody tr th:only-of-type {\n",
       "        vertical-align: middle;\n",
       "    }\n",
       "\n",
       "    .dataframe tbody tr th {\n",
       "        vertical-align: top;\n",
       "    }\n",
       "\n",
       "    .dataframe thead th {\n",
       "        text-align: right;\n",
       "    }\n",
       "</style>\n",
       "<table border=\"1\" class=\"dataframe\">\n",
       "  <thead>\n",
       "    <tr style=\"text-align: right;\">\n",
       "      <th></th>\n",
       "      <th>res_name</th>\n",
       "      <th>cuisine_tag</th>\n",
       "      <th>rest_link</th>\n",
       "    </tr>\n",
       "  </thead>\n",
       "  <tbody>\n",
       "    <tr>\n",
       "      <th>0</th>\n",
       "      <td>[The Pasta Guyz, [], [in,  ,  ,  , Jumeirah La...</td>\n",
       "      <td>[Italian, Pasta]</td>\n",
       "      <td>https://www.talabat.com/uae/restaurant/605052/...</td>\n",
       "    </tr>\n",
       "  </tbody>\n",
       "</table>\n",
       "</div>"
      ],
      "text/plain": [
       "                                            res_name       cuisine_tag  \\\n",
       "0  [The Pasta Guyz, [], [in,  ,  ,  , Jumeirah La...  [Italian, Pasta]   \n",
       "\n",
       "                                           rest_link  \n",
       "0  https://www.talabat.com/uae/restaurant/605052/...  "
      ]
     },
     "execution_count": 57,
     "metadata": {},
     "output_type": "execute_result"
    }
   ],
   "source": [
    "df_4.head()"
   ]
  },
  {
   "cell_type": "code",
   "execution_count": 34,
   "id": "969c8763",
   "metadata": {},
   "outputs": [
    {
     "name": "stdout",
     "output_type": "stream",
     "text": [
      "https://www.talabat.com/assets/images/logo.svg\n",
      "https://images.deliveryhero.io/image/talabat/restaurants/PDR_WineRed_Logo_637661895331887248.jpg?width=180\n",
      "/assets/images/menu-ico.svg\n",
      "/assets/images/icon_reviews.svg\n",
      "/assets/images/icon_info_menu.svg\n",
      "/assets/images/empty-cart.svg\n"
     ]
    }
   ],
   "source": [
    "result=requests.get('https://www.talabat.com/uae/restaurant/621796/pizza-di-rocco-jumeirah-lakes-towers--jlt?aid=1308') \n",
    "website=BeautifulSoup(result.content,'lxml')\n",
    "\n",
    "name_5=website.find_all('h1',{'class':'f-24 f-m-15 media-heading f-400 mb-0'}) \n",
    "\n",
    "def remove(name_5):\n",
    "    string=(\"[@_!#.$%^&*()<>?/'\\|}{~:]\") \n",
    "    \n",
    "    for i in string:\n",
    "        name_5=name_5.replace(i, \"\") #remove the spical chracters\n",
    "        \n",
    "    return name_5.replace(\" \",\"-\") #replace the space with a -\n",
    "links_5=[]\n",
    "\n",
    "for x in name_5:\n",
    "    links_5.append('https://www.talabat.com/uae/restaurant/621796/pizza-di-rocco-jumeirah-lakes-towers--jlt?aid=1308')\n",
    "    links_5=list(dict.fromkeys(links_5))\n",
    "\n",
    "logo_5 = website.find_all('img')\n",
    "  \n",
    "for item in logo_5:\n",
    "    print(item['src'])\n",
    "logo_5[0].text\n",
    "\n",
    "cuisine_5 = website.find_all('p',{'class':'light-text f-14 mb-0'})\n",
    "\n",
    "cuisine_5[0].text\n",
    "\n",
    "# restaurant detail\n",
    "\n",
    "\n",
    "a5 ={'res_name':name_5,'cuisine_tag':cuisine_5,'rest_link':links_5}\n",
    "df_5 = pd.DataFrame.from_dict(a5, orient='index').transpose() #we did that as if we have an empty cell\n",
    "df_5=df_5.dropna()"
   ]
  },
  {
   "cell_type": "code",
   "execution_count": 35,
   "id": "e3616331",
   "metadata": {},
   "outputs": [
    {
     "data": {
      "text/plain": [
       "'Pizza Di Roccoin\\xa0Jumeirah Lakes Towers - JLT,\\xa0UAE'"
      ]
     },
     "execution_count": 35,
     "metadata": {},
     "output_type": "execute_result"
    }
   ],
   "source": [
    "name_5[0].text"
   ]
  },
  {
   "cell_type": "code",
   "execution_count": 59,
   "id": "c5db75a1",
   "metadata": {},
   "outputs": [
    {
     "data": {
      "text/html": [
       "<div>\n",
       "<style scoped>\n",
       "    .dataframe tbody tr th:only-of-type {\n",
       "        vertical-align: middle;\n",
       "    }\n",
       "\n",
       "    .dataframe tbody tr th {\n",
       "        vertical-align: top;\n",
       "    }\n",
       "\n",
       "    .dataframe thead th {\n",
       "        text-align: right;\n",
       "    }\n",
       "</style>\n",
       "<table border=\"1\" class=\"dataframe\">\n",
       "  <thead>\n",
       "    <tr style=\"text-align: right;\">\n",
       "      <th></th>\n",
       "      <th>res_name</th>\n",
       "      <th>cuisine_tag</th>\n",
       "      <th>rest_link</th>\n",
       "    </tr>\n",
       "  </thead>\n",
       "  <tbody>\n",
       "    <tr>\n",
       "      <th>0</th>\n",
       "      <td>[Pizza Di Rocco, [], [in,  ,  ,  , Jumeirah La...</td>\n",
       "      <td>[Pizza, Pasta, Italian]</td>\n",
       "      <td>https://www.talabat.com/uae/restaurant/621796/...</td>\n",
       "    </tr>\n",
       "  </tbody>\n",
       "</table>\n",
       "</div>"
      ],
      "text/plain": [
       "                                            res_name              cuisine_tag  \\\n",
       "0  [Pizza Di Rocco, [], [in,  ,  ,  , Jumeirah La...  [Pizza, Pasta, Italian]   \n",
       "\n",
       "                                           rest_link  \n",
       "0  https://www.talabat.com/uae/restaurant/621796/...  "
      ]
     },
     "execution_count": 59,
     "metadata": {},
     "output_type": "execute_result"
    }
   ],
   "source": [
    "df_5.head()"
   ]
  },
  {
   "cell_type": "code",
   "execution_count": 64,
   "id": "02dbb4c0",
   "metadata": {},
   "outputs": [],
   "source": [
    "df_5.to_csv(\"C:\\\\Users\\\\pooja\\\\OneDrive\\\\Desktop\\\\web_scraping\")"
   ]
  },
  {
   "cell_type": "code",
   "execution_count": null,
   "id": "b20bcd1e",
   "metadata": {},
   "outputs": [],
   "source": []
  }
 ],
 "metadata": {
  "kernelspec": {
   "display_name": "Python 3 (ipykernel)",
   "language": "python",
   "name": "python3"
  },
  "language_info": {
   "codemirror_mode": {
    "name": "ipython",
    "version": 3
   },
   "file_extension": ".py",
   "mimetype": "text/x-python",
   "name": "python",
   "nbconvert_exporter": "python",
   "pygments_lexer": "ipython3",
   "version": "3.9.7"
  }
 },
 "nbformat": 4,
 "nbformat_minor": 5
}
